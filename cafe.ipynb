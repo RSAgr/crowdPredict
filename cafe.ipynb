{
 "cells": [
  {
   "cell_type": "code",
   "execution_count": 8,
   "id": "2294487a",
   "metadata": {},
   "outputs": [],
   "source": [
    "import pandas as pd\n",
    "import numpy as np"
   ]
  },
  {
   "cell_type": "code",
   "execution_count": null,
   "id": "7763b83f",
   "metadata": {},
   "outputs": [
    {
     "ename": "AttributeError",
     "evalue": "module 'pandas' has no attribute 'read'",
     "output_type": "error",
     "traceback": [
      "\u001b[1;31m---------------------------------------------------------------------------\u001b[0m",
      "\u001b[1;31mAttributeError\u001b[0m                            Traceback (most recent call last)",
      "Cell \u001b[1;32mIn[9], line 2\u001b[0m\n\u001b[0;32m      1\u001b[0m file_path \u001b[38;5;241m=\u001b[39m \u001b[38;5;124m\"\u001b[39m\u001b[38;5;124m./responses.csv\u001b[39m\u001b[38;5;124m\"\u001b[39m\n\u001b[1;32m----> 2\u001b[0m df \u001b[38;5;241m=\u001b[39m \u001b[43mpd\u001b[49m\u001b[38;5;241;43m.\u001b[39;49m\u001b[43mread\u001b[49m(file_path)\n",
      "\u001b[1;31mAttributeError\u001b[0m: module 'pandas' has no attribute 'read'"
     ]
    }
   ],
   "source": [
    "df = pd.read_csv(\"responses.csv\")"
   ]
  },
  {
   "cell_type": "code",
   "execution_count": null,
   "id": "093cba15",
   "metadata": {},
   "outputs": [
    {
     "data": {
      "text/plain": [
       "Timestamp                                                                                                                             0\n",
       "What is the most visited cafeteria for you?                                                                                           1\n",
       "What time visit the cafeteria most often?                                                                                             7\n",
       "How often do you visit the cafeteria near you?                                                                                       71\n",
       "Which day of the week do you visit the cafeteria most often?                                                                          2\n",
       "For which kind of meals do you visit the cafeteria?                                                                                   0\n",
       "In what kind of weather do you most often visit the cafeteria                                                                         0\n",
       "What is the most common time gap (in hours) between your visit to the cafeteria and your next class?\\nEnter only a numeric value.    18\n",
       "What do you feel is the most busiest time of the cafeterias you visit                                                                72\n",
       "dtype: int64"
      ]
     },
     "execution_count": 3,
     "metadata": {},
     "output_type": "execute_result"
    }
   ],
   "source": [
    "df.isnull().sum()"
   ]
  },
  {
   "cell_type": "code",
   "execution_count": null,
   "id": "58d729e8",
   "metadata": {},
   "outputs": [
    {
     "name": "stderr",
     "output_type": "stream",
     "text": [
      "C:\\Users\\avata\\AppData\\Local\\Temp\\ipykernel_19916\\143032697.py:9: UserWarning: Could not infer format, so each element will be parsed individually, falling back to `dateutil`. To ensure parsing is consistent and as-expected, please specify a format.\n",
      "  df['Visit Time'] = pd.to_datetime(df['What time visit the cafeteria most often?'], errors='coerce').dt.time\n"
     ]
    }
   ],
   "source": [
    "from sklearn.preprocessing import LabelEncoder\n",
    "# Clean column names and values\n",
    "df.columns = df.columns.str.strip().str.replace('\\n', ' ')\n",
    "for col in df.select_dtypes(include='object').columns:\n",
    "    df[col] = df[col].astype(str).str.strip()\n",
    "\n",
    "# Convert timestamp and visit time\n",
    "df['Timestamp'] = pd.to_datetime(df['Timestamp'])\n",
    "df['Visit Time'] = pd.to_datetime(df['What time visit the cafeteria most often?'], errors='coerce').dt.time\n",
    "df.dropna(subset=['What is the most visited cafeteria for you?', 'Visit Time'], inplace=True)\n",
    "\n",
    "# Extract hour from time\n",
    "df['Hour'] = pd.to_datetime(df['Visit Time'].astype(str), format='%H:%M:%S', errors='coerce').dt.hour\n",
    "\n",
    "# Encode cafeteria names\n",
    "le = LabelEncoder()\n",
    "df['Cafeteria_Label'] = le.fit_transform(df['What is the most visited cafeteria for you?'])"
   ]
  },
  {
   "cell_type": "code",
   "execution_count": null,
   "id": "d3962ba3",
   "metadata": {},
   "outputs": [
    {
     "data": {
      "text/html": [
       "<div>\n",
       "<style scoped>\n",
       "    .dataframe tbody tr th:only-of-type {\n",
       "        vertical-align: middle;\n",
       "    }\n",
       "\n",
       "    .dataframe tbody tr th {\n",
       "        vertical-align: top;\n",
       "    }\n",
       "\n",
       "    .dataframe thead th {\n",
       "        text-align: right;\n",
       "    }\n",
       "</style>\n",
       "<table border=\"1\" class=\"dataframe\">\n",
       "  <thead>\n",
       "    <tr style=\"text-align: right;\">\n",
       "      <th></th>\n",
       "      <th>Timestamp</th>\n",
       "      <th>What is the most visited cafeteria for you?</th>\n",
       "      <th>What time visit the cafeteria most often?</th>\n",
       "      <th>How often do you visit the cafeteria near you?</th>\n",
       "      <th>Which day of the week do you visit the cafeteria most often?</th>\n",
       "      <th>For which kind of meals do you visit the cafeteria?</th>\n",
       "      <th>In what kind of weather do you most often visit the cafeteria</th>\n",
       "      <th>What is the most common time gap (in hours) between your visit to the cafeteria and your next class? Enter only a numeric value.</th>\n",
       "      <th>What do you feel is the most busiest time of the cafeterias you visit</th>\n",
       "      <th>Visit Time</th>\n",
       "      <th>Hour</th>\n",
       "      <th>Cafeteria_Label</th>\n",
       "    </tr>\n",
       "  </thead>\n",
       "  <tbody>\n",
       "    <tr>\n",
       "      <th>0</th>\n",
       "      <td>2025-03-24 12:52:48.564</td>\n",
       "      <td>Techno</td>\n",
       "      <td>18:30:00</td>\n",
       "      <td>nan</td>\n",
       "      <td>Friday</td>\n",
       "      <td>Snacks</td>\n",
       "      <td>Sunny/Clear</td>\n",
       "      <td>nan</td>\n",
       "      <td>nan</td>\n",
       "      <td>18:30:00</td>\n",
       "      <td>18</td>\n",
       "      <td>5</td>\n",
       "    </tr>\n",
       "    <tr>\n",
       "      <th>1</th>\n",
       "      <td>2025-03-24 12:54:13.461</td>\n",
       "      <td>IC</td>\n",
       "      <td>19:00:00</td>\n",
       "      <td>nan</td>\n",
       "      <td>Sunday</td>\n",
       "      <td>Snacks</td>\n",
       "      <td>Cloudy</td>\n",
       "      <td>nan</td>\n",
       "      <td>nan</td>\n",
       "      <td>19:00:00</td>\n",
       "      <td>19</td>\n",
       "      <td>1</td>\n",
       "    </tr>\n",
       "    <tr>\n",
       "      <th>2</th>\n",
       "      <td>2025-03-24 12:56:23.550</td>\n",
       "      <td>IC</td>\n",
       "      <td>17:30:00</td>\n",
       "      <td>nan</td>\n",
       "      <td>Saturday</td>\n",
       "      <td>Snacks</td>\n",
       "      <td>Sunny/Clear</td>\n",
       "      <td>0</td>\n",
       "      <td>nan</td>\n",
       "      <td>17:30:00</td>\n",
       "      <td>17</td>\n",
       "      <td>1</td>\n",
       "    </tr>\n",
       "    <tr>\n",
       "      <th>4</th>\n",
       "      <td>2025-03-24 12:59:43.225</td>\n",
       "      <td>IC</td>\n",
       "      <td>19:00:00</td>\n",
       "      <td>nan</td>\n",
       "      <td>Thursday</td>\n",
       "      <td>Snacks</td>\n",
       "      <td>Cloudy</td>\n",
       "      <td>1</td>\n",
       "      <td>nan</td>\n",
       "      <td>19:00:00</td>\n",
       "      <td>19</td>\n",
       "      <td>1</td>\n",
       "    </tr>\n",
       "    <tr>\n",
       "      <th>5</th>\n",
       "      <td>2025-03-24 13:04:44.633</td>\n",
       "      <td>IC</td>\n",
       "      <td>12:50:00</td>\n",
       "      <td>nan</td>\n",
       "      <td>Friday</td>\n",
       "      <td>Snacks</td>\n",
       "      <td>Sunny/Clear</td>\n",
       "      <td>0.167</td>\n",
       "      <td>nan</td>\n",
       "      <td>12:50:00</td>\n",
       "      <td>12</td>\n",
       "      <td>1</td>\n",
       "    </tr>\n",
       "  </tbody>\n",
       "</table>\n",
       "</div>"
      ],
      "text/plain": [
       "                Timestamp What is the most visited cafeteria for you?  \\\n",
       "0 2025-03-24 12:52:48.564                                      Techno   \n",
       "1 2025-03-24 12:54:13.461                                          IC   \n",
       "2 2025-03-24 12:56:23.550                                          IC   \n",
       "4 2025-03-24 12:59:43.225                                          IC   \n",
       "5 2025-03-24 13:04:44.633                                          IC   \n",
       "\n",
       "  What time visit the cafeteria most often?  \\\n",
       "0                                  18:30:00   \n",
       "1                                  19:00:00   \n",
       "2                                  17:30:00   \n",
       "4                                  19:00:00   \n",
       "5                                  12:50:00   \n",
       "\n",
       "  How often do you visit the cafeteria near you?  \\\n",
       "0                                            nan   \n",
       "1                                            nan   \n",
       "2                                            nan   \n",
       "4                                            nan   \n",
       "5                                            nan   \n",
       "\n",
       "  Which day of the week do you visit the cafeteria most often?  \\\n",
       "0                                             Friday             \n",
       "1                                             Sunday             \n",
       "2                                           Saturday             \n",
       "4                                           Thursday             \n",
       "5                                             Friday             \n",
       "\n",
       "  For which kind of meals do you visit the cafeteria?  \\\n",
       "0                                             Snacks    \n",
       "1                                             Snacks    \n",
       "2                                             Snacks    \n",
       "4                                             Snacks    \n",
       "5                                             Snacks    \n",
       "\n",
       "  In what kind of weather do you most often visit the cafeteria  \\\n",
       "0                                        Sunny/Clear              \n",
       "1                                             Cloudy              \n",
       "2                                        Sunny/Clear              \n",
       "4                                             Cloudy              \n",
       "5                                        Sunny/Clear              \n",
       "\n",
       "  What is the most common time gap (in hours) between your visit to the cafeteria and your next class? Enter only a numeric value.  \\\n",
       "0                                                nan                                                                                 \n",
       "1                                                nan                                                                                 \n",
       "2                                                  0                                                                                 \n",
       "4                                                  1                                                                                 \n",
       "5                                              0.167                                                                                 \n",
       "\n",
       "  What do you feel is the most busiest time of the cafeterias you visit  \\\n",
       "0                                                nan                      \n",
       "1                                                nan                      \n",
       "2                                                nan                      \n",
       "4                                                nan                      \n",
       "5                                                nan                      \n",
       "\n",
       "  Visit Time  Hour  Cafeteria_Label  \n",
       "0   18:30:00    18                5  \n",
       "1   19:00:00    19                1  \n",
       "2   17:30:00    17                1  \n",
       "4   19:00:00    19                1  \n",
       "5   12:50:00    12                1  "
      ]
     },
     "execution_count": 5,
     "metadata": {},
     "output_type": "execute_result"
    }
   ],
   "source": [
    "df.head()"
   ]
  },
  {
   "cell_type": "code",
   "execution_count": null,
   "id": "9267b28f",
   "metadata": {},
   "outputs": [],
   "source": [
    "from sklearn.model_selection import train_test_split\n",
    "from sklearn.naive_bayes import MultinomialNB"
   ]
  },
  {
   "cell_type": "code",
   "execution_count": null,
   "id": "884e3863",
   "metadata": {},
   "outputs": [],
   "source": [
    "X = df[['Hour']]  # Features: Hour of visit\n",
    "y = df['Cafeteria_Label']  # Target: Cafeteria\n",
    "\n",
    "# Train-test split\n",
    "X_train, X_test, y_train, y_test = train_test_split(X, y, test_size=0.2, random_state=42)\n",
    "\n",
    "# Train model using Naive Bayes\n",
    "model = MultinomialNB()\n",
    "model.fit(X_train, y_train)\n",
    "y_pred=model.predict(X_test)"
   ]
  },
  {
   "cell_type": "code",
   "execution_count": null,
   "id": "67561cd7",
   "metadata": {},
   "outputs": [],
   "source": [
    "from sklearn.metrics import accuracy_score"
   ]
  },
  {
   "cell_type": "code",
   "execution_count": null,
   "id": "682cefba",
   "metadata": {},
   "outputs": [
    {
     "name": "stdout",
     "output_type": "stream",
     "text": [
      "0.625\n"
     ]
    }
   ],
   "source": [
    "accuracy = accuracy_score(y_test, y_pred)\n",
    "print(accuracy)"
   ]
  },
  {
   "cell_type": "code",
   "execution_count": null,
   "id": "f84456df",
   "metadata": {},
   "outputs": [
    {
     "name": "stderr",
     "output_type": "stream",
     "text": [
      "c:\\Users\\avata\\anaconda3\\Lib\\site-packages\\sklearn\\model_selection\\_split.py:776: UserWarning: The least populated class in y has only 1 members, which is less than n_splits=5.\n",
      "  warnings.warn(\n"
     ]
    },
    {
     "name": "stdout",
     "output_type": "stream",
     "text": [
      "Best parameters: {'alpha': 0.01}\n",
      "Best cross-validated accuracy: 0.5089743589743589\n",
      "Test accuracy with best model: 62.50%\n"
     ]
    }
   ],
   "source": [
    "from sklearn.model_selection import GridSearchCV\n",
    "from sklearn.naive_bayes import MultinomialNB\n",
    "\n",
    "# Define model\n",
    "model = MultinomialNB()\n",
    "\n",
    "# Define parameter grid\n",
    "param_grid = {\n",
    "    'alpha': [0.01, 0.1, 0.5, 1.0, 2.0, 5.0, 10.0]\n",
    "}\n",
    "\n",
    "# GridSearchCV setup\n",
    "grid_search = GridSearchCV(model, param_grid, cv=5, scoring='accuracy')\n",
    "\n",
    "# Fit to training data\n",
    "grid_search.fit(X_train, y_train)\n",
    "\n",
    "# Best parameters and score\n",
    "print(\"Best parameters:\", grid_search.best_params_)\n",
    "print(\"Best cross-validated accuracy:\", grid_search.best_score_)\n",
    "\n",
    "# Use best model to predict\n",
    "best_model = grid_search.best_estimator_\n",
    "y_pred = best_model.predict(X_test)\n",
    "\n",
    "# Accuracy on test set\n",
    "from sklearn.metrics import accuracy_score\n",
    "accuracy = accuracy_score(y_test, y_pred)\n",
    "print(f\"Test accuracy with best model: {accuracy * 100:.2f}%\")\n"
   ]
  },
  {
   "cell_type": "code",
   "execution_count": null,
   "id": "a5a716e3",
   "metadata": {},
   "outputs": [
    {
     "name": "stderr",
     "output_type": "stream",
     "text": [
      "c:\\Users\\avata\\anaconda3\\Lib\\site-packages\\sklearn\\model_selection\\_split.py:776: UserWarning: The least populated class in y has only 1 members, which is less than n_splits=5.\n",
      "  warnings.warn(\n"
     ]
    },
    {
     "name": "stdout",
     "output_type": "stream",
     "text": [
      "Best parameters: {'alpha': 0.01, 'fit_prior': True}\n",
      "Best cross-validated accuracy: 0.5089743589743589\n",
      "Test accuracy with tuned model: 62.50%\n"
     ]
    }
   ],
   "source": [
    "from sklearn.model_selection import GridSearchCV\n",
    "from sklearn.naive_bayes import MultinomialNB\n",
    "from sklearn.metrics import accuracy_score\n",
    "\n",
    "# Define model\n",
    "model = MultinomialNB()\n",
    "\n",
    "# Define parameter grid with more options\n",
    "param_grid = {\n",
    "    'alpha': [0.01, 0.1, 0.5, 1.0, 2.0, 5.0, 10.0],\n",
    "    'fit_prior': [True, False]\n",
    "}\n",
    "\n",
    "# Set up GridSearchCV\n",
    "grid_search = GridSearchCV(model, param_grid, cv=5, scoring='accuracy', n_jobs=-1)\n",
    "\n",
    "# Fit model on training data\n",
    "grid_search.fit(X_train, y_train)\n",
    "\n",
    "# Best params and score\n",
    "print(\"Best parameters:\", grid_search.best_params_)\n",
    "print(\"Best cross-validated accuracy:\", grid_search.best_score_)\n",
    "\n",
    "# Use the best model for predictions\n",
    "best_model = grid_search.best_estimator_\n",
    "y_pred = best_model.predict(X_test)\n",
    "\n",
    "# Accuracy on test data\n",
    "accuracy = accuracy_score(y_test, y_pred)\n",
    "print(f\"Test accuracy with tuned model: {accuracy * 100:.2f}%\")\n"
   ]
  },
  {
   "cell_type": "code",
   "execution_count": null,
   "id": "09c88391",
   "metadata": {},
   "outputs": [
    {
     "name": "stdout",
     "output_type": "stream",
     "text": [
      "\n",
      "Training and tuning MultinomialNB...\n",
      "Best parameters for MultinomialNB: {'alpha': 0.01, 'fit_prior': True}\n",
      "Best CV accuracy: 0.5090\n",
      "Test accuracy: 0.6250\n",
      "\n",
      "Training and tuning LogisticRegression...\n"
     ]
    },
    {
     "name": "stderr",
     "output_type": "stream",
     "text": [
      "c:\\Users\\avata\\anaconda3\\Lib\\site-packages\\sklearn\\model_selection\\_split.py:776: UserWarning: The least populated class in y has only 1 members, which is less than n_splits=5.\n",
      "  warnings.warn(\n",
      "c:\\Users\\avata\\anaconda3\\Lib\\site-packages\\sklearn\\model_selection\\_split.py:776: UserWarning: The least populated class in y has only 1 members, which is less than n_splits=5.\n",
      "  warnings.warn(\n"
     ]
    },
    {
     "name": "stdout",
     "output_type": "stream",
     "text": [
      "Best parameters for LogisticRegression: {'C': 0.01, 'solver': 'lbfgs'}\n",
      "Best CV accuracy: 0.6744\n",
      "Test accuracy: 0.7500\n",
      "\n",
      "Training and tuning RandomForest...\n"
     ]
    },
    {
     "name": "stderr",
     "output_type": "stream",
     "text": [
      "c:\\Users\\avata\\anaconda3\\Lib\\site-packages\\sklearn\\model_selection\\_split.py:776: UserWarning: The least populated class in y has only 1 members, which is less than n_splits=5.\n",
      "  warnings.warn(\n"
     ]
    },
    {
     "name": "stdout",
     "output_type": "stream",
     "text": [
      "Best parameters for RandomForest: {'max_depth': None, 'min_samples_split': 5, 'n_estimators': 100}\n",
      "Best CV accuracy: 0.6077\n",
      "Test accuracy: 0.7500\n",
      "\n",
      "Training and tuning SVM...\n",
      "Best parameters for SVM: {'svc__C': 1, 'svc__kernel': 'rbf'}\n",
      "Best CV accuracy: 0.6410\n",
      "Test accuracy: 0.7500\n"
     ]
    },
    {
     "name": "stderr",
     "output_type": "stream",
     "text": [
      "c:\\Users\\avata\\anaconda3\\Lib\\site-packages\\sklearn\\model_selection\\_split.py:776: UserWarning: The least populated class in y has only 1 members, which is less than n_splits=5.\n",
      "  warnings.warn(\n"
     ]
    }
   ],
   "source": [
    "from sklearn.model_selection import GridSearchCV, train_test_split\n",
    "from sklearn.naive_bayes import MultinomialNB\n",
    "from sklearn.linear_model import LogisticRegression\n",
    "from sklearn.ensemble import RandomForestClassifier\n",
    "from sklearn.svm import SVC\n",
    "from sklearn.metrics import accuracy_score\n",
    "from sklearn.pipeline import Pipeline\n",
    "from sklearn.preprocessing import StandardScaler\n",
    "\n",
    "# Split your data (assuming X and y are already defined)\n",
    "X_train, X_test, y_train, y_test = train_test_split(X, y, test_size=0.2, random_state=42)\n",
    "\n",
    "# Dictionary to hold models and their param grids\n",
    "models = {\n",
    "    \"MultinomialNB\": {\n",
    "        'model': MultinomialNB(),\n",
    "        'params': {\n",
    "            'alpha': [0.01, 0.1, 0.5, 1.0, 2.0],\n",
    "            'fit_prior': [True, False]\n",
    "        }\n",
    "    },\n",
    "    \"LogisticRegression\": {\n",
    "        'model': LogisticRegression(max_iter=1000),\n",
    "        'params': {\n",
    "            'C': [0.01, 0.1, 1, 10],\n",
    "            'solver': ['liblinear', 'lbfgs']\n",
    "        }\n",
    "    },\n",
    "    \"RandomForest\": {\n",
    "        'model': RandomForestClassifier(),\n",
    "        'params': {\n",
    "            'n_estimators': [50, 100],\n",
    "            'max_depth': [None, 5, 10],\n",
    "            'min_samples_split': [2, 5]\n",
    "        }\n",
    "    },\n",
    "    \"SVM\": {\n",
    "        'model': Pipeline([\n",
    "            ('scaler', StandardScaler()),\n",
    "            ('svc', SVC())\n",
    "        ]),\n",
    "        'params': {\n",
    "            'svc__C': [0.1, 1, 10],\n",
    "            'svc__kernel': ['linear', 'rbf']\n",
    "        }\n",
    "    }\n",
    "}\n",
    "\n",
    "# Run grid search for each model\n",
    "best_models = {}\n",
    "\n",
    "for name, m in models.items():\n",
    "    print(f\"\\nTraining and tuning {name}...\")\n",
    "    grid = GridSearchCV(m['model'], m['params'], cv=5, scoring='accuracy', n_jobs=-1)\n",
    "    grid.fit(X_train, y_train)\n",
    "    \n",
    "    print(f\"Best parameters for {name}: {grid.best_params_}\")\n",
    "    print(f\"Best CV accuracy: {grid.best_score_:.4f}\")\n",
    "    \n",
    "    # Test accuracy\n",
    "    best_model = grid.best_estimator_\n",
    "    y_pred = best_model.predict(X_test)\n",
    "    test_acc = accuracy_score(y_test, y_pred)\n",
    "    print(f\"Test accuracy: {test_acc:.4f}\")\n",
    "    \n",
    "    best_models[name] = {\n",
    "        'model': best_model,\n",
    "        'cv_accuracy': grid.best_score_,\n",
    "        'test_accuracy': test_acc\n",
    "    }\n"
   ]
  }
 ],
 "metadata": {
  "kernelspec": {
   "display_name": "base",
   "language": "python",
   "name": "python3"
  },
  "language_info": {
   "codemirror_mode": {
    "name": "ipython",
    "version": 3
   },
   "file_extension": ".py",
   "mimetype": "text/x-python",
   "name": "python",
   "nbconvert_exporter": "python",
   "pygments_lexer": "ipython3",
   "version": "3.10.16"
  }
 },
 "nbformat": 4,
 "nbformat_minor": 5
}
